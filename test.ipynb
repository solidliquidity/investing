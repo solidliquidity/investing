{
 "cells": [
  {
   "cell_type": "code",
   "execution_count": null,
   "metadata": {},
   "outputs": [],
   "source": [
    "from portfolio import IBKRClient, run_loop\n",
    "import time\n",
    "import threading\n",
    "\n",
    "app = IBKRClient()\n",
    "\n",
    "# Connect to TWS or IB Gateway\n",
    "app.connect(\"127.0.0.1\", 4001, clientId=1)  # Use port 7496 for live accounts\n",
    "\n",
    "# Start the API thread\n",
    "api_thread = threading.Thread(target=run_loop, args=(app,), daemon=True)\n",
    "api_thread.start()\n",
    "\n",
    "# Allow time to connect and request data\n",
    "time.sleep(2)\n",
    "\n",
    "# Request portfolio data\n",
    "app.reqAccountUpdates(True, \"\")  # \"\" requests updates for all accounts\n",
    "\n",
    "# Allow time for data retrieval\n",
    "time.sleep(10)\n",
    "\n",
    "# Print portfolio data\n",
    "print(\"\\nPortfolio Summary:\")\n",
    "for item in app.portfolio_data:\n",
    "    print(item)\n",
    "\n",
    "# Disconnect\n",
    "app.disconnect()\n"
   ]
  },
  {
   "cell_type": "code",
   "execution_count": null,
   "metadata": {},
   "outputs": [],
   "source": [
    "import yfinance as yf\n",
    "from company_analysis import Company\n",
    "import pandas as pd\n",
    "import numpy as np\n",
    "import matplotlib.pyplot as plt\n",
    "\n",
    "# financial ratios\n",
    "\n",
    "# Fetch financials for SoundHound\n",
    "ticker = \"SOUN\"\n",
    "company = yf.Ticker(ticker)\n",
    "market_price = company.history(period=\"1d\")['Close'].iloc[-1]  # Fetch the latest closing price\n",
    "\n",
    "# Fetch financial statements\n",
    "balance_sheet = company.balance_sheet\n",
    "income_statement = company.financials\n",
    "cash_flow = company.cashflow\n",
    "\n",
    "# transpose dataframes and concatenate laterally\n",
    "df = pd.concat([balance_sheet.T, income_statement.T], axis=1)\n",
    "df = pd.concat([df, cash_flow.T], axis=1)\n",
    "df['Market Price Per Share'] = market_price\n",
    "\n",
    "# initialise company class\n",
    "SOUN = Company(ticker, df)\n"
   ]
  },
  {
   "cell_type": "code",
   "execution_count": null,
   "metadata": {},
   "outputs": [],
   "source": [
    "# price and vol\n",
    "\n",
    "price_history = company.history(period=\"1y\")\n",
    "price_history[\"Log Returns\"] = np.log(price_history[\"Close\"] / price_history[\"Close\"].shift(1))\n",
    "price_history[\"Realized Volatility\"] = price_history[\"Log Returns\"].rolling(window=21).std() * np.sqrt(252)  # 21-day window (1 month)\n",
    "\n",
    "plt.figure(figsize=(12, 6))\n",
    "plt.plot(price_history.index, price_history[\"Close\"], label=\"Stock Price\")\n",
    "plt.plot(price_history.index, price_history[\"Realized Volatility\"], label=\"Realized Volatility\", color=\"orange\")\n",
    "plt.title(\"Stock Price and Realized Volatility\")\n",
    "plt.legend()\n",
    "plt.grid()\n",
    "plt.xlim(left=price_history.index[0], right=price_history.index[-1])\n",
    "plt.show()"
   ]
  },
  {
   "cell_type": "code",
   "execution_count": 2,
   "metadata": {},
   "outputs": [
    {
     "data": {
      "text/plain": [
       "2023-12-31   -0.400022\n",
       "2022-12-31         NaN\n",
       "2021-12-31         NaN\n",
       "2020-12-31   -1.114717\n",
       "dtype: object"
      ]
     },
     "execution_count": 2,
     "metadata": {},
     "output_type": "execute_result"
    }
   ],
   "source": [
    "# calculate earnings per share: (net income - preferred dividends) / common shares outstanding\n",
    "\n",
    "SOUN.ProfitabilityMetrics(SOUN.financials).eps()\n"
   ]
  },
  {
   "cell_type": "code",
   "execution_count": 3,
   "metadata": {},
   "outputs": [
    {
     "data": {
      "text/plain": [
       "2023-12-31     7.876107\n",
       "2022-12-31    10.335902\n",
       "2021-12-31     7.043925\n",
       "2020-12-31     6.589355\n",
       "Name: Net Income, dtype: object"
      ]
     },
     "execution_count": 3,
     "metadata": {},
     "output_type": "execute_result"
    }
   ],
   "source": [
    "# calculate return on interest: net income / average equity\n",
    "\n",
    "SOUN.ProfitabilityMetrics(SOUN.financials).roe()"
   ]
  },
  {
   "cell_type": "code",
   "execution_count": 4,
   "metadata": {},
   "outputs": [
    {
     "data": {
      "text/plain": [
       "2023-12-31    0.753515\n",
       "2022-12-31    0.691638\n",
       "2021-12-31    0.689343\n",
       "2020-12-31    0.549589\n",
       "dtype: object"
      ]
     },
     "execution_count": 4,
     "metadata": {},
     "output_type": "execute_result"
    }
   ],
   "source": [
    "# calculate gross margin: (total revenue - cogs) / total revenue\n",
    "\n",
    "SOUN.ProfitabilityMetrics(SOUN.financials).gross_margin()"
   ]
  },
  {
   "cell_type": "code",
   "execution_count": 5,
   "metadata": {},
   "outputs": [
    {
     "data": {
      "text/plain": [
       "2023-12-31   -1.938766\n",
       "2022-12-31   -3.749333\n",
       "2021-12-31   -3.752418\n",
       "2020-12-31    -5.71614\n",
       "dtype: object"
      ]
     },
     "execution_count": 5,
     "metadata": {},
     "output_type": "execute_result"
    }
   ],
   "source": [
    "# calculate net margin: net income / total revenue\n",
    "\n",
    "SOUN.ProfitabilityMetrics(SOUN.financials).net_margin()"
   ]
  },
  {
   "cell_type": "code",
   "execution_count": 6,
   "metadata": {},
   "outputs": [
    {
     "data": {
      "text/plain": [
       "2023-12-31    4.687363\n",
       "2022-12-31    0.458972\n",
       "2021-12-31    0.313099\n",
       "2020-12-31    1.996045\n",
       "dtype: object"
      ]
     },
     "execution_count": 6,
     "metadata": {},
     "output_type": "execute_result"
    }
   ],
   "source": [
    "SOUN.LiquidityMetrics(SOUN.financials).current_ratio()"
   ]
  },
  {
   "cell_type": "code",
   "execution_count": null,
   "metadata": {},
   "outputs": [
    {
     "data": {
      "text/plain": [
       "\"Error: 'Inventory'\""
      ]
     },
     "execution_count": 7,
     "metadata": {},
     "output_type": "execute_result"
    }
   ],
   "source": [
    "SOUN.LiquidityMetrics(SOUN.financials).quick_ratio() # no inventory"
   ]
  },
  {
   "cell_type": "code",
   "execution_count": 8,
   "metadata": {},
   "outputs": [
    {
     "data": {
      "text/plain": [
       "2023-12-31    3.932626\n",
       "2022-12-31    0.239688\n",
       "2021-12-31    0.246481\n",
       "2020-12-31    1.781674\n",
       "dtype: object"
      ]
     },
     "execution_count": 8,
     "metadata": {},
     "output_type": "execute_result"
    }
   ],
   "source": [
    "SOUN.LiquidityMetrics(SOUN.financials).cash_ratio()"
   ]
  },
  {
   "cell_type": "code",
   "execution_count": 9,
   "metadata": {},
   "outputs": [
    {
     "data": {
      "text/plain": [
       "2023-12-31     3.20076\n",
       "2022-12-31   -1.206728\n",
       "2021-12-31   -0.213605\n",
       "2020-12-31   -0.060216\n",
       "dtype: object"
      ]
     },
     "execution_count": 9,
     "metadata": {},
     "output_type": "execute_result"
    }
   ],
   "source": [
    "SOUN.SolvencyMetrics(SOUN.financials).debt_to_equity()"
   ]
  },
  {
   "cell_type": "code",
   "execution_count": 10,
   "metadata": {},
   "outputs": [
    {
     "data": {
      "text/plain": [
       "\"Error: 'Reconciled Cost of Revenue'\""
      ]
     },
     "execution_count": 10,
     "metadata": {},
     "output_type": "execute_result"
    }
   ],
   "source": [
    "SOUN.EfficiencyMetrics(SOUN.financials).inventory_turnover() # no inventory"
   ]
  },
  {
   "cell_type": "code",
   "execution_count": 11,
   "metadata": {},
   "outputs": [
    {
     "data": {
      "text/plain": [
       "2023-12-31    0.303549\n",
       "2022-12-31    0.819486\n",
       "2021-12-31    0.430807\n",
       "2020-12-31    0.204551\n",
       "dtype: object"
      ]
     },
     "execution_count": 11,
     "metadata": {},
     "output_type": "execute_result"
    }
   ],
   "source": [
    "SOUN.EfficiencyMetrics(SOUN.financials).asset_turnover()"
   ]
  },
  {
   "cell_type": "code",
   "execution_count": 12,
   "metadata": {},
   "outputs": [
    {
     "data": {
      "text/plain": [
       "2023-12-31    4.386612\n",
       "2022-12-31    2.976715\n",
       "2021-12-31    2.026966\n",
       "2020-12-31    1.244753\n",
       "Name: Total Revenue, dtype: object"
      ]
     },
     "execution_count": 12,
     "metadata": {},
     "output_type": "execute_result"
    }
   ],
   "source": [
    "SOUN.EfficiencyMetrics(SOUN.financials).receivables_turnover()"
   ]
  },
  {
   "cell_type": "code",
   "execution_count": 13,
   "metadata": {},
   "outputs": [
    {
     "data": {
      "text/plain": [
       "2023-12-31   -16.099116\n",
       "2022-12-31          NaN\n",
       "2021-12-31          NaN\n",
       "2020-12-31    -5.777249\n",
       "dtype: object"
      ]
     },
     "execution_count": 13,
     "metadata": {},
     "output_type": "execute_result"
    }
   ],
   "source": [
    "SOUN.ValuationMetrics(SOUN.financials).price_to_earnings()"
   ]
  },
  {
   "cell_type": "code",
   "execution_count": 14,
   "metadata": {},
   "outputs": [
    {
     "data": {
      "text/plain": [
       "2023-12-31     52.41643\n",
       "2022-12-31   -27.707534\n",
       "2021-12-31    -1.261885\n",
       "2020-12-31    -1.622023\n",
       "dtype: object"
      ]
     },
     "execution_count": 14,
     "metadata": {},
     "output_type": "execute_result"
    }
   ],
   "source": [
    "SOUN.ValuationMetrics(SOUN.financials).price_to_book()"
   ]
  },
  {
   "cell_type": "code",
   "execution_count": 15,
   "metadata": {},
   "outputs": [
    {
     "data": {
      "text/plain": [
       "2023-12-31   -26.589652\n",
       "2022-12-31    -10.69131\n",
       "2021-12-31    -8.545434\n",
       "2020-12-31    -7.045599\n",
       "dtype: object"
      ]
     },
     "execution_count": 15,
     "metadata": {},
     "output_type": "execute_result"
    }
   ],
   "source": [
    "SOUN.ValuationMetrics(SOUN.financials).ev_to_ebitda()"
   ]
  }
 ],
 "metadata": {
  "kernelspec": {
   "display_name": "Python 3",
   "language": "python",
   "name": "python3"
  },
  "language_info": {
   "codemirror_mode": {
    "name": "ipython",
    "version": 3
   },
   "file_extension": ".py",
   "mimetype": "text/x-python",
   "name": "python",
   "nbconvert_exporter": "python",
   "pygments_lexer": "ipython3",
   "version": "3.11.6"
  }
 },
 "nbformat": 4,
 "nbformat_minor": 2
}
